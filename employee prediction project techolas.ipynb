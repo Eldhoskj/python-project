{
 "cells": [
  {
   "cell_type": "markdown",
   "id": "8cb17a95",
   "metadata": {},
   "source": [
    "# Aim"
   ]
  },
  {
   "cell_type": "markdown",
   "id": "e566b8fa",
   "metadata": {},
   "source": [
    "##                    Predict whether the Employee of an Organization should get Promotion or Not?"
   ]
  },
  {
   "cell_type": "markdown",
   "id": "09a4e584",
   "metadata": {},
   "source": [
    "# Probelm :"
   ]
  },
  {
   "cell_type": "markdown",
   "id": "f9d6cdbd",
   "metadata": {},
   "source": [
    "\n",
    "One of the problem  facing by MNC's nowadays is to  identify the right people for promotion and prepare them in time. So to ease this process we are building an automated setup for promotion process and trying predictive analytics to identify the employees who are most likely to get promoted in an organisation."
   ]
  },
  {
   "cell_type": "markdown",
   "id": "9da6415f",
   "metadata": {},
   "source": [
    "# Importing all the required libraries"
   ]
  },
  {
   "cell_type": "code",
   "execution_count": 3,
   "id": "60a84a2d",
   "metadata": {},
   "outputs": [],
   "source": [
    "import numpy as np\n",
    "import pandas as pd\n",
    "import seaborn as sns\n",
    "import matplotlib.pyplot as plt\n",
    "import sklearn"
   ]
  },
  {
   "cell_type": "code",
   "execution_count": 4,
   "id": "6a30ae09",
   "metadata": {},
   "outputs": [],
   "source": [
    "# reading the dataset\n",
    "train = pd.read_csv('train.csv')"
   ]
  },
  {
   "cell_type": "code",
   "execution_count": 5,
   "id": "a1aea478",
   "metadata": {},
   "outputs": [
    {
     "name": "stdout",
     "output_type": "stream",
     "text": [
      "Shape of the Training Data : (54808, 14)\n"
     ]
    }
   ],
   "source": [
    "# lets check the shape \n",
    "print(\"Shape of the Training Data :\",train.shape)"
   ]
  },
  {
   "cell_type": "code",
   "execution_count": 6,
   "id": "ffbce60f",
   "metadata": {},
   "outputs": [
    {
     "data": {
      "text/plain": [
       "Index(['employee_id', 'department', 'region', 'education', 'gender',\n",
       "       'recruitment_channel', 'no_of_trainings', 'age', 'previous_year_rating',\n",
       "       'length_of_service', 'KPIs_greater_than_80', 'awards_won',\n",
       "       'avg_training_score', 'is_promoted'],\n",
       "      dtype='object')"
      ]
     },
     "execution_count": 6,
     "metadata": {},
     "output_type": "execute_result"
    }
   ],
   "source": [
    "# columns in Training Data\n",
    "train.columns"
   ]
  },
  {
   "cell_type": "code",
   "execution_count": 7,
   "id": "80356fab",
   "metadata": {},
   "outputs": [
    {
     "data": {
      "text/html": [
       "<div>\n",
       "<style scoped>\n",
       "    .dataframe tbody tr th:only-of-type {\n",
       "        vertical-align: middle;\n",
       "    }\n",
       "\n",
       "    .dataframe tbody tr th {\n",
       "        vertical-align: top;\n",
       "    }\n",
       "\n",
       "    .dataframe thead th {\n",
       "        text-align: right;\n",
       "    }\n",
       "</style>\n",
       "<table border=\"1\" class=\"dataframe\">\n",
       "  <thead>\n",
       "    <tr style=\"text-align: right;\">\n",
       "      <th></th>\n",
       "      <th>employee_id</th>\n",
       "      <th>department</th>\n",
       "      <th>region</th>\n",
       "      <th>education</th>\n",
       "      <th>gender</th>\n",
       "      <th>recruitment_channel</th>\n",
       "      <th>no_of_trainings</th>\n",
       "      <th>age</th>\n",
       "      <th>previous_year_rating</th>\n",
       "      <th>length_of_service</th>\n",
       "      <th>KPIs_greater_than_80</th>\n",
       "      <th>awards_won</th>\n",
       "      <th>avg_training_score</th>\n",
       "      <th>is_promoted</th>\n",
       "    </tr>\n",
       "  </thead>\n",
       "  <tbody>\n",
       "    <tr>\n",
       "      <th>0</th>\n",
       "      <td>65438</td>\n",
       "      <td>Sales &amp; Marketing</td>\n",
       "      <td>region_7</td>\n",
       "      <td>Master's &amp; above</td>\n",
       "      <td>f</td>\n",
       "      <td>sourcing</td>\n",
       "      <td>1</td>\n",
       "      <td>35</td>\n",
       "      <td>5.0</td>\n",
       "      <td>8</td>\n",
       "      <td>1</td>\n",
       "      <td>0</td>\n",
       "      <td>49</td>\n",
       "      <td>0</td>\n",
       "    </tr>\n",
       "    <tr>\n",
       "      <th>1</th>\n",
       "      <td>65141</td>\n",
       "      <td>Operations</td>\n",
       "      <td>region_22</td>\n",
       "      <td>Bachelor's</td>\n",
       "      <td>m</td>\n",
       "      <td>other</td>\n",
       "      <td>1</td>\n",
       "      <td>30</td>\n",
       "      <td>5.0</td>\n",
       "      <td>4</td>\n",
       "      <td>0</td>\n",
       "      <td>0</td>\n",
       "      <td>60</td>\n",
       "      <td>0</td>\n",
       "    </tr>\n",
       "    <tr>\n",
       "      <th>2</th>\n",
       "      <td>7513</td>\n",
       "      <td>Sales &amp; Marketing</td>\n",
       "      <td>region_19</td>\n",
       "      <td>Bachelor's</td>\n",
       "      <td>m</td>\n",
       "      <td>sourcing</td>\n",
       "      <td>1</td>\n",
       "      <td>34</td>\n",
       "      <td>3.0</td>\n",
       "      <td>7</td>\n",
       "      <td>0</td>\n",
       "      <td>0</td>\n",
       "      <td>50</td>\n",
       "      <td>0</td>\n",
       "    </tr>\n",
       "    <tr>\n",
       "      <th>3</th>\n",
       "      <td>2542</td>\n",
       "      <td>Sales &amp; Marketing</td>\n",
       "      <td>region_23</td>\n",
       "      <td>Bachelor's</td>\n",
       "      <td>m</td>\n",
       "      <td>other</td>\n",
       "      <td>2</td>\n",
       "      <td>39</td>\n",
       "      <td>1.0</td>\n",
       "      <td>10</td>\n",
       "      <td>0</td>\n",
       "      <td>0</td>\n",
       "      <td>50</td>\n",
       "      <td>0</td>\n",
       "    </tr>\n",
       "    <tr>\n",
       "      <th>4</th>\n",
       "      <td>48945</td>\n",
       "      <td>Technology</td>\n",
       "      <td>region_26</td>\n",
       "      <td>Bachelor's</td>\n",
       "      <td>m</td>\n",
       "      <td>other</td>\n",
       "      <td>1</td>\n",
       "      <td>45</td>\n",
       "      <td>3.0</td>\n",
       "      <td>2</td>\n",
       "      <td>0</td>\n",
       "      <td>0</td>\n",
       "      <td>73</td>\n",
       "      <td>0</td>\n",
       "    </tr>\n",
       "  </tbody>\n",
       "</table>\n",
       "</div>"
      ],
      "text/plain": [
       "   employee_id         department     region         education gender  \\\n",
       "0        65438  Sales & Marketing   region_7  Master's & above      f   \n",
       "1        65141         Operations  region_22        Bachelor's      m   \n",
       "2         7513  Sales & Marketing  region_19        Bachelor's      m   \n",
       "3         2542  Sales & Marketing  region_23        Bachelor's      m   \n",
       "4        48945         Technology  region_26        Bachelor's      m   \n",
       "\n",
       "  recruitment_channel  no_of_trainings  age  previous_year_rating  \\\n",
       "0            sourcing                1   35                   5.0   \n",
       "1               other                1   30                   5.0   \n",
       "2            sourcing                1   34                   3.0   \n",
       "3               other                2   39                   1.0   \n",
       "4               other                1   45                   3.0   \n",
       "\n",
       "   length_of_service  KPIs_greater_than_80  awards_won  avg_training_score  \\\n",
       "0                  8                     1           0                  49   \n",
       "1                  4                     0           0                  60   \n",
       "2                  7                     0           0                  50   \n",
       "3                 10                     0           0                  50   \n",
       "4                  2                     0           0                  73   \n",
       "\n",
       "   is_promoted  \n",
       "0            0  \n",
       "1            0  \n",
       "2            0  \n",
       "3            0  \n",
       "4            0  "
      ]
     },
     "execution_count": 7,
     "metadata": {},
     "output_type": "execute_result"
    }
   ],
   "source": [
    "# lets check the head of the dataset\n",
    "train.head()"
   ]
  },
  {
   "cell_type": "code",
   "execution_count": 8,
   "id": "889654cb",
   "metadata": {},
   "outputs": [
    {
     "data": {
      "text/plain": [
       "Sales & Marketing    16840\n",
       "Operations           11348\n",
       "Technology            7138\n",
       "Procurement           7138\n",
       "Analytics             5352\n",
       "Finance               2536\n",
       "HR                    2418\n",
       "Legal                 1039\n",
       "R&D                    999\n",
       "Name: department, dtype: int64"
      ]
     },
     "execution_count": 8,
     "metadata": {},
     "output_type": "execute_result"
    }
   ],
   "source": [
    "# values in Departments\n",
    "\n",
    "train['department'].value_counts()"
   ]
  },
  {
   "cell_type": "code",
   "execution_count": 9,
   "id": "e61b6bc3",
   "metadata": {},
   "outputs": [
    {
     "data": {
      "text/plain": [
       "region_2     12343\n",
       "region_22     6428\n",
       "region_7      4843\n",
       "region_15     2808\n",
       "region_13     2648\n",
       "region_26     2260\n",
       "region_31     1935\n",
       "region_4      1703\n",
       "region_27     1659\n",
       "region_16     1465\n",
       "region_28     1318\n",
       "region_11     1315\n",
       "region_23     1175\n",
       "region_29      994\n",
       "region_32      945\n",
       "region_19      874\n",
       "region_20      850\n",
       "region_14      827\n",
       "region_25      819\n",
       "region_17      796\n",
       "region_5       766\n",
       "region_6       690\n",
       "region_30      657\n",
       "region_8       655\n",
       "region_10      648\n",
       "region_1       610\n",
       "region_24      508\n",
       "region_12      500\n",
       "region_9       420\n",
       "region_21      411\n",
       "region_3       346\n",
       "region_34      292\n",
       "region_33      269\n",
       "region_18       31\n",
       "Name: region, dtype: int64"
      ]
     },
     "execution_count": 9,
     "metadata": {},
     "output_type": "execute_result"
    }
   ],
   "source": [
    "# values in Region\n",
    "\n",
    "train['region'].value_counts()"
   ]
  },
  {
   "cell_type": "code",
   "execution_count": 10,
   "id": "4c877d83",
   "metadata": {},
   "outputs": [
    {
     "data": {
      "text/html": [
       "<style  type=\"text/css\" >\n",
       "#T_83f19_row0_col0{\n",
       "            background-color:  #dd8c59;\n",
       "            color:  #000000;\n",
       "        }#T_83f19_row0_col1,#T_83f19_row0_col2,#T_83f19_row0_col3,#T_83f19_row0_col4,#T_83f19_row0_col5,#T_83f19_row0_col6,#T_83f19_row0_col7,#T_83f19_row0_col8,#T_83f19_row7_col0{\n",
       "            background-color:  #ffc77f;\n",
       "            color:  #000000;\n",
       "        }#T_83f19_row1_col0,#T_83f19_row5_col0{\n",
       "            background-color:  #9e6440;\n",
       "            color:  #000000;\n",
       "        }#T_83f19_row1_col1,#T_83f19_row1_col2,#T_83f19_row1_col3,#T_83f19_row1_col4,#T_83f19_row1_col5,#T_83f19_row1_col6,#T_83f19_row1_col7,#T_83f19_row1_col8,#T_83f19_row2_col1,#T_83f19_row2_col2,#T_83f19_row2_col3,#T_83f19_row2_col4,#T_83f19_row2_col5,#T_83f19_row2_col6,#T_83f19_row2_col7,#T_83f19_row2_col8,#T_83f19_row3_col0,#T_83f19_row3_col1,#T_83f19_row3_col2,#T_83f19_row3_col3,#T_83f19_row3_col4,#T_83f19_row3_col5,#T_83f19_row3_col6,#T_83f19_row3_col7,#T_83f19_row3_col8,#T_83f19_row4_col1,#T_83f19_row4_col2,#T_83f19_row4_col3,#T_83f19_row4_col4,#T_83f19_row4_col5,#T_83f19_row4_col6,#T_83f19_row4_col7,#T_83f19_row4_col8,#T_83f19_row5_col1,#T_83f19_row5_col2,#T_83f19_row5_col3,#T_83f19_row5_col4,#T_83f19_row5_col5,#T_83f19_row5_col6,#T_83f19_row5_col7,#T_83f19_row5_col8,#T_83f19_row6_col1,#T_83f19_row6_col2,#T_83f19_row6_col3,#T_83f19_row6_col4,#T_83f19_row6_col5,#T_83f19_row6_col6,#T_83f19_row6_col7,#T_83f19_row6_col8,#T_83f19_row7_col1,#T_83f19_row7_col2,#T_83f19_row7_col3,#T_83f19_row7_col4,#T_83f19_row7_col5,#T_83f19_row7_col6,#T_83f19_row7_col7,#T_83f19_row7_col8{\n",
       "            background-color:  #000000;\n",
       "            color:  #f1f1f1;\n",
       "        }#T_83f19_row2_col0{\n",
       "            background-color:  #5a3924;\n",
       "            color:  #f1f1f1;\n",
       "        }#T_83f19_row4_col0{\n",
       "            background-color:  #4f3220;\n",
       "            color:  #f1f1f1;\n",
       "        }#T_83f19_row6_col0{\n",
       "            background-color:  #ed9660;\n",
       "            color:  #000000;\n",
       "        }</style><table id=\"T_83f19_\" ><thead>    <tr>        <th class=\"blank level0\" ></th>        <th class=\"col_heading level0 col0\" >employee_id</th>        <th class=\"col_heading level0 col1\" >no_of_trainings</th>        <th class=\"col_heading level0 col2\" >age</th>        <th class=\"col_heading level0 col3\" >previous_year_rating</th>        <th class=\"col_heading level0 col4\" >length_of_service</th>        <th class=\"col_heading level0 col5\" >KPIs_greater_than_80</th>        <th class=\"col_heading level0 col6\" >awards_won</th>        <th class=\"col_heading level0 col7\" >avg_training_score</th>        <th class=\"col_heading level0 col8\" >is_promoted</th>    </tr></thead><tbody>\n",
       "                <tr>\n",
       "                        <th id=\"T_83f19_level0_row0\" class=\"row_heading level0 row0\" >count</th>\n",
       "                        <td id=\"T_83f19_row0_col0\" class=\"data row0 col0\" >54808.000000</td>\n",
       "                        <td id=\"T_83f19_row0_col1\" class=\"data row0 col1\" >54808.000000</td>\n",
       "                        <td id=\"T_83f19_row0_col2\" class=\"data row0 col2\" >54808.000000</td>\n",
       "                        <td id=\"T_83f19_row0_col3\" class=\"data row0 col3\" >50684.000000</td>\n",
       "                        <td id=\"T_83f19_row0_col4\" class=\"data row0 col4\" >54808.000000</td>\n",
       "                        <td id=\"T_83f19_row0_col5\" class=\"data row0 col5\" >54808.000000</td>\n",
       "                        <td id=\"T_83f19_row0_col6\" class=\"data row0 col6\" >54808.000000</td>\n",
       "                        <td id=\"T_83f19_row0_col7\" class=\"data row0 col7\" >54808.000000</td>\n",
       "                        <td id=\"T_83f19_row0_col8\" class=\"data row0 col8\" >54808.000000</td>\n",
       "            </tr>\n",
       "            <tr>\n",
       "                        <th id=\"T_83f19_level0_row1\" class=\"row_heading level0 row1\" >mean</th>\n",
       "                        <td id=\"T_83f19_row1_col0\" class=\"data row1 col0\" >39195.830627</td>\n",
       "                        <td id=\"T_83f19_row1_col1\" class=\"data row1 col1\" >1.253011</td>\n",
       "                        <td id=\"T_83f19_row1_col2\" class=\"data row1 col2\" >34.803915</td>\n",
       "                        <td id=\"T_83f19_row1_col3\" class=\"data row1 col3\" >3.329256</td>\n",
       "                        <td id=\"T_83f19_row1_col4\" class=\"data row1 col4\" >5.865512</td>\n",
       "                        <td id=\"T_83f19_row1_col5\" class=\"data row1 col5\" >0.351974</td>\n",
       "                        <td id=\"T_83f19_row1_col6\" class=\"data row1 col6\" >0.023172</td>\n",
       "                        <td id=\"T_83f19_row1_col7\" class=\"data row1 col7\" >63.386750</td>\n",
       "                        <td id=\"T_83f19_row1_col8\" class=\"data row1 col8\" >0.085170</td>\n",
       "            </tr>\n",
       "            <tr>\n",
       "                        <th id=\"T_83f19_level0_row2\" class=\"row_heading level0 row2\" >std</th>\n",
       "                        <td id=\"T_83f19_row2_col0\" class=\"data row2 col0\" >22586.581449</td>\n",
       "                        <td id=\"T_83f19_row2_col1\" class=\"data row2 col1\" >0.609264</td>\n",
       "                        <td id=\"T_83f19_row2_col2\" class=\"data row2 col2\" >7.660169</td>\n",
       "                        <td id=\"T_83f19_row2_col3\" class=\"data row2 col3\" >1.259993</td>\n",
       "                        <td id=\"T_83f19_row2_col4\" class=\"data row2 col4\" >4.265094</td>\n",
       "                        <td id=\"T_83f19_row2_col5\" class=\"data row2 col5\" >0.477590</td>\n",
       "                        <td id=\"T_83f19_row2_col6\" class=\"data row2 col6\" >0.150450</td>\n",
       "                        <td id=\"T_83f19_row2_col7\" class=\"data row2 col7\" >13.371559</td>\n",
       "                        <td id=\"T_83f19_row2_col8\" class=\"data row2 col8\" >0.279137</td>\n",
       "            </tr>\n",
       "            <tr>\n",
       "                        <th id=\"T_83f19_level0_row3\" class=\"row_heading level0 row3\" >min</th>\n",
       "                        <td id=\"T_83f19_row3_col0\" class=\"data row3 col0\" >1.000000</td>\n",
       "                        <td id=\"T_83f19_row3_col1\" class=\"data row3 col1\" >1.000000</td>\n",
       "                        <td id=\"T_83f19_row3_col2\" class=\"data row3 col2\" >20.000000</td>\n",
       "                        <td id=\"T_83f19_row3_col3\" class=\"data row3 col3\" >1.000000</td>\n",
       "                        <td id=\"T_83f19_row3_col4\" class=\"data row3 col4\" >1.000000</td>\n",
       "                        <td id=\"T_83f19_row3_col5\" class=\"data row3 col5\" >0.000000</td>\n",
       "                        <td id=\"T_83f19_row3_col6\" class=\"data row3 col6\" >0.000000</td>\n",
       "                        <td id=\"T_83f19_row3_col7\" class=\"data row3 col7\" >39.000000</td>\n",
       "                        <td id=\"T_83f19_row3_col8\" class=\"data row3 col8\" >0.000000</td>\n",
       "            </tr>\n",
       "            <tr>\n",
       "                        <th id=\"T_83f19_level0_row4\" class=\"row_heading level0 row4\" >25%</th>\n",
       "                        <td id=\"T_83f19_row4_col0\" class=\"data row4 col0\" >19669.750000</td>\n",
       "                        <td id=\"T_83f19_row4_col1\" class=\"data row4 col1\" >1.000000</td>\n",
       "                        <td id=\"T_83f19_row4_col2\" class=\"data row4 col2\" >29.000000</td>\n",
       "                        <td id=\"T_83f19_row4_col3\" class=\"data row4 col3\" >3.000000</td>\n",
       "                        <td id=\"T_83f19_row4_col4\" class=\"data row4 col4\" >3.000000</td>\n",
       "                        <td id=\"T_83f19_row4_col5\" class=\"data row4 col5\" >0.000000</td>\n",
       "                        <td id=\"T_83f19_row4_col6\" class=\"data row4 col6\" >0.000000</td>\n",
       "                        <td id=\"T_83f19_row4_col7\" class=\"data row4 col7\" >51.000000</td>\n",
       "                        <td id=\"T_83f19_row4_col8\" class=\"data row4 col8\" >0.000000</td>\n",
       "            </tr>\n",
       "            <tr>\n",
       "                        <th id=\"T_83f19_level0_row5\" class=\"row_heading level0 row5\" >50%</th>\n",
       "                        <td id=\"T_83f19_row5_col0\" class=\"data row5 col0\" >39225.500000</td>\n",
       "                        <td id=\"T_83f19_row5_col1\" class=\"data row5 col1\" >1.000000</td>\n",
       "                        <td id=\"T_83f19_row5_col2\" class=\"data row5 col2\" >33.000000</td>\n",
       "                        <td id=\"T_83f19_row5_col3\" class=\"data row5 col3\" >3.000000</td>\n",
       "                        <td id=\"T_83f19_row5_col4\" class=\"data row5 col4\" >5.000000</td>\n",
       "                        <td id=\"T_83f19_row5_col5\" class=\"data row5 col5\" >0.000000</td>\n",
       "                        <td id=\"T_83f19_row5_col6\" class=\"data row5 col6\" >0.000000</td>\n",
       "                        <td id=\"T_83f19_row5_col7\" class=\"data row5 col7\" >60.000000</td>\n",
       "                        <td id=\"T_83f19_row5_col8\" class=\"data row5 col8\" >0.000000</td>\n",
       "            </tr>\n",
       "            <tr>\n",
       "                        <th id=\"T_83f19_level0_row6\" class=\"row_heading level0 row6\" >75%</th>\n",
       "                        <td id=\"T_83f19_row6_col0\" class=\"data row6 col0\" >58730.500000</td>\n",
       "                        <td id=\"T_83f19_row6_col1\" class=\"data row6 col1\" >1.000000</td>\n",
       "                        <td id=\"T_83f19_row6_col2\" class=\"data row6 col2\" >39.000000</td>\n",
       "                        <td id=\"T_83f19_row6_col3\" class=\"data row6 col3\" >4.000000</td>\n",
       "                        <td id=\"T_83f19_row6_col4\" class=\"data row6 col4\" >7.000000</td>\n",
       "                        <td id=\"T_83f19_row6_col5\" class=\"data row6 col5\" >1.000000</td>\n",
       "                        <td id=\"T_83f19_row6_col6\" class=\"data row6 col6\" >0.000000</td>\n",
       "                        <td id=\"T_83f19_row6_col7\" class=\"data row6 col7\" >76.000000</td>\n",
       "                        <td id=\"T_83f19_row6_col8\" class=\"data row6 col8\" >0.000000</td>\n",
       "            </tr>\n",
       "            <tr>\n",
       "                        <th id=\"T_83f19_level0_row7\" class=\"row_heading level0 row7\" >max</th>\n",
       "                        <td id=\"T_83f19_row7_col0\" class=\"data row7 col0\" >78298.000000</td>\n",
       "                        <td id=\"T_83f19_row7_col1\" class=\"data row7 col1\" >10.000000</td>\n",
       "                        <td id=\"T_83f19_row7_col2\" class=\"data row7 col2\" >60.000000</td>\n",
       "                        <td id=\"T_83f19_row7_col3\" class=\"data row7 col3\" >5.000000</td>\n",
       "                        <td id=\"T_83f19_row7_col4\" class=\"data row7 col4\" >37.000000</td>\n",
       "                        <td id=\"T_83f19_row7_col5\" class=\"data row7 col5\" >1.000000</td>\n",
       "                        <td id=\"T_83f19_row7_col6\" class=\"data row7 col6\" >1.000000</td>\n",
       "                        <td id=\"T_83f19_row7_col7\" class=\"data row7 col7\" >99.000000</td>\n",
       "                        <td id=\"T_83f19_row7_col8\" class=\"data row7 col8\" >1.000000</td>\n",
       "            </tr>\n",
       "    </tbody></table>"
      ],
      "text/plain": [
       "<pandas.io.formats.style.Styler at 0x16b2fadc160>"
      ]
     },
     "execution_count": 10,
     "metadata": {},
     "output_type": "execute_result"
    }
   ],
   "source": [
    "# lets check descriptive statistics for numerical columns\n",
    "train.describe().style.background_gradient(cmap = 'copper')"
   ]
  },
  {
   "cell_type": "markdown",
   "id": "4827525e",
   "metadata": {},
   "source": [
    "It is quite clear that we are not having Outliers in our Dataset, the average training score for most of the Employee lie between 40 to 100, which is a very good distribution, also th mean is 50.\n",
    "\n",
    "Also, the Length of service, is not having very disruptive values, so we can keep them for model training. they are not going to harm us a lot."
   ]
  },
  {
   "cell_type": "code",
   "execution_count": 11,
   "id": "b7141de6",
   "metadata": {},
   "outputs": [
    {
     "data": {
      "text/html": [
       "<div>\n",
       "<style scoped>\n",
       "    .dataframe tbody tr th:only-of-type {\n",
       "        vertical-align: middle;\n",
       "    }\n",
       "\n",
       "    .dataframe tbody tr th {\n",
       "        vertical-align: top;\n",
       "    }\n",
       "\n",
       "    .dataframe thead th {\n",
       "        text-align: right;\n",
       "    }\n",
       "</style>\n",
       "<table border=\"1\" class=\"dataframe\">\n",
       "  <thead>\n",
       "    <tr style=\"text-align: right;\">\n",
       "      <th></th>\n",
       "      <th>department</th>\n",
       "      <th>region</th>\n",
       "      <th>education</th>\n",
       "      <th>gender</th>\n",
       "      <th>recruitment_channel</th>\n",
       "    </tr>\n",
       "  </thead>\n",
       "  <tbody>\n",
       "    <tr>\n",
       "      <th>count</th>\n",
       "      <td>54808</td>\n",
       "      <td>54808</td>\n",
       "      <td>52399</td>\n",
       "      <td>54808</td>\n",
       "      <td>54808</td>\n",
       "    </tr>\n",
       "    <tr>\n",
       "      <th>unique</th>\n",
       "      <td>9</td>\n",
       "      <td>34</td>\n",
       "      <td>3</td>\n",
       "      <td>2</td>\n",
       "      <td>3</td>\n",
       "    </tr>\n",
       "    <tr>\n",
       "      <th>top</th>\n",
       "      <td>Sales &amp; Marketing</td>\n",
       "      <td>region_2</td>\n",
       "      <td>Bachelor's</td>\n",
       "      <td>m</td>\n",
       "      <td>other</td>\n",
       "    </tr>\n",
       "    <tr>\n",
       "      <th>freq</th>\n",
       "      <td>16840</td>\n",
       "      <td>12343</td>\n",
       "      <td>36669</td>\n",
       "      <td>38496</td>\n",
       "      <td>30446</td>\n",
       "    </tr>\n",
       "  </tbody>\n",
       "</table>\n",
       "</div>"
      ],
      "text/plain": [
       "               department    region   education gender recruitment_channel\n",
       "count               54808     54808       52399  54808               54808\n",
       "unique                  9        34           3      2                   3\n",
       "top     Sales & Marketing  region_2  Bachelor's      m               other\n",
       "freq                16840     12343       36669  38496               30446"
      ]
     },
     "execution_count": 11,
     "metadata": {},
     "output_type": "execute_result"
    }
   ],
   "source": [
    "# lets check descriptive statistics for categorical columns\n",
    "train.describe(include = 'object')"
   ]
  },
  {
   "cell_type": "code",
   "execution_count": 12,
   "id": "6cbb95b6",
   "metadata": {},
   "outputs": [
    {
     "name": "stderr",
     "output_type": "stream",
     "text": [
      "C:\\Users\\eldhos\\anaconda3\\lib\\site-packages\\seaborn\\_decorators.py:36: FutureWarning: Pass the following variable as a keyword arg: x. From version 0.12, the only valid positional argument will be `data`, and passing other arguments without an explicit keyword will result in an error or misinterpretation.\n",
      "  warnings.warn(\n"
     ]
    },
    {
     "data": {
      "image/png": "[encoded data removed]",
      "text/plain": [
       "<Figure size 432x288 with 2 Axes>"
      ]
     },
     "metadata": {
      "needs_background": "light"
     },
     "output_type": "display_data"
    }
   ],
   "source": [
    "# lets check the Target Class Balance\n",
    "\n",
    "plt.subplot(1, 2, 1)\n",
    "sns.countplot(train['is_promoted'],)\n",
    "\n",
    "plt.xlabel('Promoted or Not?', fontsize = 10)\n",
    "\n",
    "plt.subplot(1, 2, 2)\n",
    "train['is_promoted'].value_counts().plot(kind = 'pie', explode = [0, 0.1], autopct = '%.2f%%', startangle = 90,\n",
    "                                       labels = ['1','0'], shadow = True, pctdistance = 0.5)\n",
    "plt.axis('off')\n",
    "\n",
    "plt.suptitle('Target Class Balance', fontsize = 15)\n",
    "plt.show()"
   ]
  },
  {
   "cell_type": "markdown",
   "id": "d2d2bd96",
   "metadata": {},
   "source": [
    "we can easily, see that the Target Class is Highly Imbalanced, and we must balance these classes of Target Class. Most of the Times, when we use Machine Learning Models with Imbalanced Classes, we have very poor Results which are completely biased towards the class having Higher Distribution."
   ]
  },
  {
   "cell_type": "markdown",
   "id": "e93034f3",
   "metadata": {},
   "source": [
    "# Treatment of Missing Values\n"
   ]
  },
  {
   "cell_type": "code",
   "execution_count": 13,
   "id": "abeaeb08",
   "metadata": {},
   "outputs": [],
   "source": [
    "# lets calculate the total missing values in the dataset\n",
    "train_total = train.isnull().sum()\n",
    "\n",
    "train_missing_data = pd.concat([train_total],\n",
    "                                axis=1, \n",
    "                                keys=['Train_Total','Test_Total'],\n",
    "                                sort = True)\n"
   ]
  },
  {
   "cell_type": "code",
   "execution_count": 14,
   "id": "098b7d09",
   "metadata": {},
   "outputs": [
    {
     "data": {
      "text/html": [
       "<div>\n",
       "<style scoped>\n",
       "    .dataframe tbody tr th:only-of-type {\n",
       "        vertical-align: middle;\n",
       "    }\n",
       "\n",
       "    .dataframe tbody tr th {\n",
       "        vertical-align: top;\n",
       "    }\n",
       "\n",
       "    .dataframe thead th {\n",
       "        text-align: right;\n",
       "    }\n",
       "</style>\n",
       "<table border=\"1\" class=\"dataframe\">\n",
       "  <thead>\n",
       "    <tr style=\"text-align: right;\">\n",
       "      <th></th>\n",
       "      <th>Train_Total</th>\n",
       "    </tr>\n",
       "  </thead>\n",
       "  <tbody>\n",
       "    <tr>\n",
       "      <th>KPIs_greater_than_80</th>\n",
       "      <td>0</td>\n",
       "    </tr>\n",
       "    <tr>\n",
       "      <th>age</th>\n",
       "      <td>0</td>\n",
       "    </tr>\n",
       "    <tr>\n",
       "      <th>avg_training_score</th>\n",
       "      <td>0</td>\n",
       "    </tr>\n",
       "    <tr>\n",
       "      <th>awards_won</th>\n",
       "      <td>0</td>\n",
       "    </tr>\n",
       "    <tr>\n",
       "      <th>department</th>\n",
       "      <td>0</td>\n",
       "    </tr>\n",
       "    <tr>\n",
       "      <th>education</th>\n",
       "      <td>2409</td>\n",
       "    </tr>\n",
       "    <tr>\n",
       "      <th>employee_id</th>\n",
       "      <td>0</td>\n",
       "    </tr>\n",
       "    <tr>\n",
       "      <th>gender</th>\n",
       "      <td>0</td>\n",
       "    </tr>\n",
       "    <tr>\n",
       "      <th>is_promoted</th>\n",
       "      <td>0</td>\n",
       "    </tr>\n",
       "    <tr>\n",
       "      <th>length_of_service</th>\n",
       "      <td>0</td>\n",
       "    </tr>\n",
       "    <tr>\n",
       "      <th>no_of_trainings</th>\n",
       "      <td>0</td>\n",
       "    </tr>\n",
       "    <tr>\n",
       "      <th>previous_year_rating</th>\n",
       "      <td>4124</td>\n",
       "    </tr>\n",
       "    <tr>\n",
       "      <th>recruitment_channel</th>\n",
       "      <td>0</td>\n",
       "    </tr>\n",
       "    <tr>\n",
       "      <th>region</th>\n",
       "      <td>0</td>\n",
       "    </tr>\n",
       "  </tbody>\n",
       "</table>\n",
       "</div>"
      ],
      "text/plain": [
       "                      Train_Total\n",
       "KPIs_greater_than_80            0\n",
       "age                             0\n",
       "avg_training_score              0\n",
       "awards_won                      0\n",
       "department                      0\n",
       "education                    2409\n",
       "employee_id                     0\n",
       "gender                          0\n",
       "is_promoted                     0\n",
       "length_of_service               0\n",
       "no_of_trainings                 0\n",
       "previous_year_rating         4124\n",
       "recruitment_channel             0\n",
       "region                          0"
      ]
     },
     "execution_count": 14,
     "metadata": {},
     "output_type": "execute_result"
    }
   ],
   "source": [
    "train_missing_data"
   ]
  },
  {
   "cell_type": "markdown",
   "id": "954aaefc",
   "metadata": {},
   "source": [
    "We can see from the above table, that Only two columns have missing values in Train and Test Dataset both is education, and previous_year_rating respectively"
   ]
  },
  {
   "cell_type": "code",
   "execution_count": 15,
   "id": "f0e8a624",
   "metadata": {},
   "outputs": [
    {
     "name": "stdout",
     "output_type": "stream",
     "text": [
      "Number of Missing Values Left in the Training Data : 0\n"
     ]
    }
   ],
   "source": [
    "# lets impute the missing values in the Training Data\n",
    "\n",
    "train['education'] = train['education'].fillna(train['education'].mode()[0])\n",
    "train['previous_year_rating'] = train['previous_year_rating'].fillna(train['previous_year_rating'].mode()[0])\n",
    "\n",
    "# lets check whether the Null values are still present or not?\n",
    "print(\"Number of Missing Values Left in the Training Data :\", train.isnull().sum().sum())"
   ]
  },
  {
   "cell_type": "code",
   "execution_count": 16,
   "id": "31a3492a",
   "metadata": {},
   "outputs": [
    {
     "data": {
      "text/plain": [
       "employee_id               int64\n",
       "department               object\n",
       "region                   object\n",
       "education                object\n",
       "gender                   object\n",
       "recruitment_channel      object\n",
       "no_of_trainings           int64\n",
       "age                       int64\n",
       "previous_year_rating    float64\n",
       "length_of_service         int64\n",
       "KPIs_greater_than_80      int64\n",
       "awards_won                int64\n",
       "avg_training_score        int64\n",
       "is_promoted               int64\n",
       "dtype: object"
      ]
     },
     "execution_count": 16,
     "metadata": {},
     "output_type": "execute_result"
    }
   ],
   "source": [
    "train.dtypes"
   ]
  },
  {
   "cell_type": "code",
   "execution_count": 17,
   "id": "7eabc41b",
   "metadata": {},
   "outputs": [],
   "source": [
    "# converting 'previous_year_rating' from float to int\n",
    "train['previous_year_rating'] = train['previous_year_rating'].astype('float64')"
   ]
  },
  {
   "cell_type": "code",
   "execution_count": 18,
   "id": "0472f64f",
   "metadata": {},
   "outputs": [
    {
     "data": {
      "text/plain": [
       "employee_id               int64\n",
       "department               object\n",
       "region                   object\n",
       "education                object\n",
       "gender                   object\n",
       "recruitment_channel      object\n",
       "no_of_trainings           int64\n",
       "age                       int64\n",
       "previous_year_rating    float64\n",
       "length_of_service         int64\n",
       "KPIs_greater_than_80      int64\n",
       "awards_won                int64\n",
       "avg_training_score        int64\n",
       "is_promoted               int64\n",
       "dtype: object"
      ]
     },
     "execution_count": 18,
     "metadata": {},
     "output_type": "execute_result"
    }
   ],
   "source": [
    "train.dtypes"
   ]
  },
  {
   "cell_type": "code",
   "execution_count": 19,
   "id": "ff691cda",
   "metadata": {},
   "outputs": [
    {
     "name": "stdout",
     "output_type": "stream",
     "text": [
      "<class 'pandas.core.frame.DataFrame'>\n",
      "RangeIndex: 54808 entries, 0 to 54807\n",
      "Data columns (total 14 columns):\n",
      " #   Column                Non-Null Count  Dtype  \n",
      "---  ------                --------------  -----  \n",
      " 0   employee_id           54808 non-null  int64  \n",
      " 1   department            54808 non-null  object \n",
      " 2   region                54808 non-null  object \n",
      " 3   education             54808 non-null  object \n",
      " 4   gender                54808 non-null  object \n",
      " 5   recruitment_channel   54808 non-null  object \n",
      " 6   no_of_trainings       54808 non-null  int64  \n",
      " 7   age                   54808 non-null  int64  \n",
      " 8   previous_year_rating  54808 non-null  float64\n",
      " 9   length_of_service     54808 non-null  int64  \n",
      " 10  KPIs_greater_than_80  54808 non-null  int64  \n",
      " 11  awards_won            54808 non-null  int64  \n",
      " 12  avg_training_score    54808 non-null  int64  \n",
      " 13  is_promoted           54808 non-null  int64  \n",
      "dtypes: float64(1), int64(8), object(5)\n",
      "memory usage: 5.9+ MB\n"
     ]
    }
   ],
   "source": [
    "train.info()"
   ]
  },
  {
   "cell_type": "markdown",
   "id": "244ce5fe",
   "metadata": {},
   "source": [
    "all missing values are treated in our dataset"
   ]
  },
  {
   "cell_type": "markdown",
   "id": "06e18bbf",
   "metadata": {},
   "source": [
    "# Outlier Detection"
   ]
  },
  {
   "cell_type": "code",
   "execution_count": 24,
   "id": "deba8c5f",
   "metadata": {},
   "outputs": [
    {
     "data": {
      "text/html": [
       "<div>\n",
       "<style scoped>\n",
       "    .dataframe tbody tr th:only-of-type {\n",
       "        vertical-align: middle;\n",
       "    }\n",
       "\n",
       "    .dataframe tbody tr th {\n",
       "        vertical-align: top;\n",
       "    }\n",
       "\n",
       "    .dataframe thead th {\n",
       "        text-align: right;\n",
       "    }\n",
       "</style>\n",
       "<table border=\"1\" class=\"dataframe\">\n",
       "  <thead>\n",
       "    <tr style=\"text-align: right;\">\n",
       "      <th></th>\n",
       "      <th>employee_id</th>\n",
       "      <th>no_of_trainings</th>\n",
       "      <th>age</th>\n",
       "      <th>previous_year_rating</th>\n",
       "      <th>length_of_service</th>\n",
       "      <th>KPIs_greater_than_80</th>\n",
       "      <th>awards_won</th>\n",
       "      <th>avg_training_score</th>\n",
       "      <th>is_promoted</th>\n",
       "    </tr>\n",
       "  </thead>\n",
       "  <tbody>\n",
       "    <tr>\n",
       "      <th>0</th>\n",
       "      <td>65438</td>\n",
       "      <td>1</td>\n",
       "      <td>35</td>\n",
       "      <td>5.0</td>\n",
       "      <td>8</td>\n",
       "      <td>1</td>\n",
       "      <td>0</td>\n",
       "      <td>49</td>\n",
       "      <td>0</td>\n",
       "    </tr>\n",
       "    <tr>\n",
       "      <th>1</th>\n",
       "      <td>65141</td>\n",
       "      <td>1</td>\n",
       "      <td>30</td>\n",
       "      <td>5.0</td>\n",
       "      <td>4</td>\n",
       "      <td>0</td>\n",
       "      <td>0</td>\n",
       "      <td>60</td>\n",
       "      <td>0</td>\n",
       "    </tr>\n",
       "    <tr>\n",
       "      <th>2</th>\n",
       "      <td>7513</td>\n",
       "      <td>1</td>\n",
       "      <td>34</td>\n",
       "      <td>3.0</td>\n",
       "      <td>7</td>\n",
       "      <td>0</td>\n",
       "      <td>0</td>\n",
       "      <td>50</td>\n",
       "      <td>0</td>\n",
       "    </tr>\n",
       "    <tr>\n",
       "      <th>3</th>\n",
       "      <td>2542</td>\n",
       "      <td>2</td>\n",
       "      <td>39</td>\n",
       "      <td>1.0</td>\n",
       "      <td>10</td>\n",
       "      <td>0</td>\n",
       "      <td>0</td>\n",
       "      <td>50</td>\n",
       "      <td>0</td>\n",
       "    </tr>\n",
       "    <tr>\n",
       "      <th>4</th>\n",
       "      <td>48945</td>\n",
       "      <td>1</td>\n",
       "      <td>45</td>\n",
       "      <td>3.0</td>\n",
       "      <td>2</td>\n",
       "      <td>0</td>\n",
       "      <td>0</td>\n",
       "      <td>73</td>\n",
       "      <td>0</td>\n",
       "    </tr>\n",
       "  </tbody>\n",
       "</table>\n",
       "</div>"
      ],
      "text/plain": [
       "   employee_id  no_of_trainings  age  previous_year_rating  length_of_service  \\\n",
       "0        65438                1   35                   5.0                  8   \n",
       "1        65141                1   30                   5.0                  4   \n",
       "2         7513                1   34                   3.0                  7   \n",
       "3         2542                2   39                   1.0                 10   \n",
       "4        48945                1   45                   3.0                  2   \n",
       "\n",
       "   KPIs_greater_than_80  awards_won  avg_training_score  is_promoted  \n",
       "0                     1           0                  49            0  \n",
       "1                     0           0                  60            0  \n",
       "2                     0           0                  50            0  \n",
       "3                     0           0                  50            0  \n",
       "4                     0           0                  73            0  "
      ]
     },
     "execution_count": 24,
     "metadata": {},
     "output_type": "execute_result"
    }
   ],
   "source": [
    "# Lets first analyze the Numberical Columns\n",
    "train.select_dtypes('number').head()"
   ]
  },
  {
   "cell_type": "markdown",
   "id": "f86b5465",
   "metadata": {},
   "source": [
    "from this data we understand in avg_training_score and length_of_service we suspect outliers so lets check that first"
   ]
  },
  {
   "cell_type": "code",
   "execution_count": 25,
   "id": "fc871635",
   "metadata": {},
   "outputs": [
    {
     "name": "stderr",
     "output_type": "stream",
     "text": [
      "C:\\Users\\eldhos\\anaconda3\\lib\\site-packages\\seaborn\\_decorators.py:36: FutureWarning: Pass the following variable as a keyword arg: x. From version 0.12, the only valid positional argument will be `data`, and passing other arguments without an explicit keyword will result in an error or misinterpretation.\n",
      "  warnings.warn(\n",
      "C:\\Users\\eldhos\\anaconda3\\lib\\site-packages\\seaborn\\_decorators.py:36: FutureWarning: Pass the following variable as a keyword arg: x. From version 0.12, the only valid positional argument will be `data`, and passing other arguments without an explicit keyword will result in an error or misinterpretation.\n",
      "  warnings.warn(\n"
     ]
    },
    {
     "data": {
      "image/png": "[encoded data removed]",
      "text/plain": [
       "<Figure size 1080x360 with 2 Axes>"
      ]
     },
     "metadata": {},
     "output_type": "display_data"
    }
   ],
   "source": [
    "plt.rcParams['figure.figsize'] = (15, 5)\n",
    "plt.style.use('fivethirtyeight')\n",
    "\n",
    "# Box plot for average training score\n",
    "plt.subplot(1, 2, 1)\n",
    "sns.boxplot(train['avg_training_score'], color = 'red')\n",
    "plt.xlabel('Average Training Score', fontsize = 12)\n",
    "plt.ylabel('Range', fontsize = 12)\n",
    "\n",
    "# Box plot for length of service\n",
    "plt.subplot(1, 2, 2)\n",
    "sns.boxplot(train['length_of_service'], color = 'red')\n",
    "plt.xlabel('Length of Service', fontsize = 12)\n",
    "plt.ylabel('Range', fontsize = 12)\n",
    "\n",
    "plt.suptitle('Box Plot', fontsize = 20)\n",
    "plt.show()"
   ]
  },
  {
   "cell_type": "code",
   "execution_count": 26,
   "id": "531a6823",
   "metadata": {},
   "outputs": [],
   "source": [
    "# lets remove the outliers from the length of service column\n",
    "\n",
    "train = train[train['length_of_service'] > 13]"
   ]
  },
  {
   "cell_type": "code",
   "execution_count": 27,
   "id": "4b308aab",
   "metadata": {},
   "outputs": [],
   "source": [
    "# lets remove some of the columns which are not very useful for predicting the promotion\n",
    "train = train.drop(['recruitment_channel', 'region', 'employee_id'], axis = 1)"
   ]
  },
  {
   "cell_type": "code",
   "execution_count": 28,
   "id": "7b9ac082",
   "metadata": {},
   "outputs": [
    {
     "data": {
      "text/plain": [
       "Index(['department', 'education', 'gender', 'no_of_trainings', 'age',\n",
       "       'previous_year_rating', 'length_of_service', 'KPIs_greater_than_80',\n",
       "       'awards_won', 'avg_training_score', 'is_promoted'],\n",
       "      dtype='object')"
      ]
     },
     "execution_count": 28,
     "metadata": {},
     "output_type": "execute_result"
    }
   ],
   "source": [
    "train.columns"
   ]
  },
  {
   "cell_type": "markdown",
   "id": "b5a0a29d",
   "metadata": {},
   "source": [
    "# Dealing with Categorical Columns"
   ]
  },
  {
   "cell_type": "code",
   "execution_count": 29,
   "id": "3e899308",
   "metadata": {},
   "outputs": [
    {
     "data": {
      "text/html": [
       "<div>\n",
       "<style scoped>\n",
       "    .dataframe tbody tr th:only-of-type {\n",
       "        vertical-align: middle;\n",
       "    }\n",
       "\n",
       "    .dataframe tbody tr th {\n",
       "        vertical-align: top;\n",
       "    }\n",
       "\n",
       "    .dataframe thead th {\n",
       "        text-align: right;\n",
       "    }\n",
       "</style>\n",
       "<table border=\"1\" class=\"dataframe\">\n",
       "  <thead>\n",
       "    <tr style=\"text-align: right;\">\n",
       "      <th></th>\n",
       "      <th>department</th>\n",
       "      <th>education</th>\n",
       "      <th>gender</th>\n",
       "    </tr>\n",
       "  </thead>\n",
       "  <tbody>\n",
       "    <tr>\n",
       "      <th>13</th>\n",
       "      <td>Technology</td>\n",
       "      <td>Master's &amp; above</td>\n",
       "      <td>m</td>\n",
       "    </tr>\n",
       "    <tr>\n",
       "      <th>42</th>\n",
       "      <td>HR</td>\n",
       "      <td>Bachelor's</td>\n",
       "      <td>m</td>\n",
       "    </tr>\n",
       "    <tr>\n",
       "      <th>60</th>\n",
       "      <td>Sales &amp; Marketing</td>\n",
       "      <td>Master's &amp; above</td>\n",
       "      <td>m</td>\n",
       "    </tr>\n",
       "    <tr>\n",
       "      <th>74</th>\n",
       "      <td>Sales &amp; Marketing</td>\n",
       "      <td>Bachelor's</td>\n",
       "      <td>m</td>\n",
       "    </tr>\n",
       "    <tr>\n",
       "      <th>99</th>\n",
       "      <td>Finance</td>\n",
       "      <td>Master's &amp; above</td>\n",
       "      <td>m</td>\n",
       "    </tr>\n",
       "  </tbody>\n",
       "</table>\n",
       "</div>"
      ],
      "text/plain": [
       "           department         education gender\n",
       "13         Technology  Master's & above      m\n",
       "42                 HR        Bachelor's      m\n",
       "60  Sales & Marketing  Master's & above      m\n",
       "74  Sales & Marketing        Bachelor's      m\n",
       "99            Finance  Master's & above      m"
      ]
     },
     "execution_count": 29,
     "metadata": {},
     "output_type": "execute_result"
    }
   ],
   "source": [
    "## Lets check the categorical columns present in the data\n",
    "train.select_dtypes('object').head()"
   ]
  },
  {
   "cell_type": "code",
   "execution_count": 30,
   "id": "72b34d85",
   "metadata": {},
   "outputs": [
    {
     "data": {
      "text/plain": [
       "Master's & above    1759\n",
       "Bachelor's          1730\n",
       "Name: education, dtype: int64"
      ]
     },
     "execution_count": 30,
     "metadata": {},
     "output_type": "execute_result"
    }
   ],
   "source": [
    "# lets check the value counts for the education column\n",
    "train['education'].value_counts()"
   ]
  },
  {
   "cell_type": "code",
   "execution_count": 31,
   "id": "4bd291d0",
   "metadata": {},
   "outputs": [
    {
     "data": {
      "text/html": [
       "<div>\n",
       "<style scoped>\n",
       "    .dataframe tbody tr th:only-of-type {\n",
       "        vertical-align: middle;\n",
       "    }\n",
       "\n",
       "    .dataframe tbody tr th {\n",
       "        vertical-align: top;\n",
       "    }\n",
       "\n",
       "    .dataframe thead th {\n",
       "        text-align: right;\n",
       "    }\n",
       "</style>\n",
       "<table border=\"1\" class=\"dataframe\">\n",
       "  <thead>\n",
       "    <tr style=\"text-align: right;\">\n",
       "      <th></th>\n",
       "      <th>department</th>\n",
       "      <th>education</th>\n",
       "      <th>gender</th>\n",
       "    </tr>\n",
       "  </thead>\n",
       "  <tbody>\n",
       "    <tr>\n",
       "      <th>13</th>\n",
       "      <td>Technology</td>\n",
       "      <td>Master's &amp; above</td>\n",
       "      <td>m</td>\n",
       "    </tr>\n",
       "    <tr>\n",
       "      <th>42</th>\n",
       "      <td>HR</td>\n",
       "      <td>Bachelor's</td>\n",
       "      <td>m</td>\n",
       "    </tr>\n",
       "    <tr>\n",
       "      <th>60</th>\n",
       "      <td>Sales &amp; Marketing</td>\n",
       "      <td>Master's &amp; above</td>\n",
       "      <td>m</td>\n",
       "    </tr>\n",
       "    <tr>\n",
       "      <th>74</th>\n",
       "      <td>Sales &amp; Marketing</td>\n",
       "      <td>Bachelor's</td>\n",
       "      <td>m</td>\n",
       "    </tr>\n",
       "    <tr>\n",
       "      <th>99</th>\n",
       "      <td>Finance</td>\n",
       "      <td>Master's &amp; above</td>\n",
       "      <td>m</td>\n",
       "    </tr>\n",
       "  </tbody>\n",
       "</table>\n",
       "</div>"
      ],
      "text/plain": [
       "           department         education gender\n",
       "13         Technology  Master's & above      m\n",
       "42                 HR        Bachelor's      m\n",
       "60  Sales & Marketing  Master's & above      m\n",
       "74  Sales & Marketing        Bachelor's      m\n",
       "99            Finance  Master's & above      m"
      ]
     },
     "execution_count": 31,
     "metadata": {},
     "output_type": "execute_result"
    }
   ],
   "source": [
    "## Lets check the categorical columns present in the data\n",
    "train.select_dtypes('object').head()"
   ]
  },
  {
   "cell_type": "code",
   "execution_count": 32,
   "id": "bb2c7d83",
   "metadata": {},
   "outputs": [
    {
     "data": {
      "text/plain": [
       "Master's & above    1759\n",
       "Bachelor's          1730\n",
       "Name: education, dtype: int64"
      ]
     },
     "execution_count": 32,
     "metadata": {},
     "output_type": "execute_result"
    }
   ],
   "source": [
    "# lets check the value counts for the education column\n",
    "train['education'].value_counts()"
   ]
  },
  {
   "cell_type": "code",
   "execution_count": 33,
   "id": "19ff95d6",
   "metadata": {},
   "outputs": [
    {
     "name": "stdout",
     "output_type": "stream",
     "text": [
      "Index([], dtype='object')\n"
     ]
    }
   ],
   "source": [
    "# lets start encoding these categorical columns to convert them into numerical columns\n",
    "\n",
    "# lets encode the education in their degree of importance \n",
    "train['education'] = train['education'].replace((\"Master's & above\", \"Bachelor's\", \"Below Secondary\"),\n",
    "                                                (3, 2, 1))\n",
    "\n",
    "\n",
    "# lets use Label Encoding for Gender and Department to convert them into Numerical\n",
    "from sklearn.preprocessing import LabelEncoder\n",
    "\n",
    "le = LabelEncoder()\n",
    "train['department'] = le.fit_transform(train['department'])\n",
    "\n",
    "train['gender'] = le.fit_transform(train['gender'])\n",
    "\n",
    "\n",
    "# lets check whether we still have any categorical columns left after encoding\n",
    "print(train.select_dtypes('object').columns)\n"
   ]
  },
  {
   "cell_type": "code",
   "execution_count": 34,
   "id": "5e481a3b",
   "metadata": {},
   "outputs": [],
   "source": [
    "train.to_csv('train2.csv')"
   ]
  },
  {
   "cell_type": "code",
   "execution_count": 43,
   "id": "81959c24",
   "metadata": {},
   "outputs": [
    {
     "data": {
      "text/html": [
       "<div>\n",
       "<style scoped>\n",
       "    .dataframe tbody tr th:only-of-type {\n",
       "        vertical-align: middle;\n",
       "    }\n",
       "\n",
       "    .dataframe tbody tr th {\n",
       "        vertical-align: top;\n",
       "    }\n",
       "\n",
       "    .dataframe thead th {\n",
       "        text-align: right;\n",
       "    }\n",
       "</style>\n",
       "<table border=\"1\" class=\"dataframe\">\n",
       "  <thead>\n",
       "    <tr style=\"text-align: right;\">\n",
       "      <th></th>\n",
       "      <th>department</th>\n",
       "      <th>education</th>\n",
       "      <th>gender</th>\n",
       "      <th>no_of_trainings</th>\n",
       "      <th>age</th>\n",
       "      <th>previous_year_rating</th>\n",
       "      <th>length_of_service</th>\n",
       "      <th>KPIs_greater_than_80</th>\n",
       "      <th>awards_won</th>\n",
       "      <th>avg_training_score</th>\n",
       "      <th>is_promoted</th>\n",
       "    </tr>\n",
       "  </thead>\n",
       "  <tbody>\n",
       "    <tr>\n",
       "      <th>13</th>\n",
       "      <td>8</td>\n",
       "      <td>3</td>\n",
       "      <td>1</td>\n",
       "      <td>2</td>\n",
       "      <td>39</td>\n",
       "      <td>3.0</td>\n",
       "      <td>16</td>\n",
       "      <td>0</td>\n",
       "      <td>0</td>\n",
       "      <td>80</td>\n",
       "      <td>0</td>\n",
       "    </tr>\n",
       "    <tr>\n",
       "      <th>42</th>\n",
       "      <td>2</td>\n",
       "      <td>2</td>\n",
       "      <td>1</td>\n",
       "      <td>1</td>\n",
       "      <td>59</td>\n",
       "      <td>4.0</td>\n",
       "      <td>26</td>\n",
       "      <td>1</td>\n",
       "      <td>0</td>\n",
       "      <td>52</td>\n",
       "      <td>0</td>\n",
       "    </tr>\n",
       "    <tr>\n",
       "      <th>60</th>\n",
       "      <td>7</td>\n",
       "      <td>3</td>\n",
       "      <td>1</td>\n",
       "      <td>1</td>\n",
       "      <td>50</td>\n",
       "      <td>4.0</td>\n",
       "      <td>17</td>\n",
       "      <td>1</td>\n",
       "      <td>0</td>\n",
       "      <td>47</td>\n",
       "      <td>1</td>\n",
       "    </tr>\n",
       "    <tr>\n",
       "      <th>74</th>\n",
       "      <td>7</td>\n",
       "      <td>2</td>\n",
       "      <td>1</td>\n",
       "      <td>1</td>\n",
       "      <td>50</td>\n",
       "      <td>3.0</td>\n",
       "      <td>14</td>\n",
       "      <td>0</td>\n",
       "      <td>0</td>\n",
       "      <td>52</td>\n",
       "      <td>0</td>\n",
       "    </tr>\n",
       "    <tr>\n",
       "      <th>99</th>\n",
       "      <td>1</td>\n",
       "      <td>3</td>\n",
       "      <td>1</td>\n",
       "      <td>1</td>\n",
       "      <td>60</td>\n",
       "      <td>5.0</td>\n",
       "      <td>17</td>\n",
       "      <td>0</td>\n",
       "      <td>0</td>\n",
       "      <td>59</td>\n",
       "      <td>0</td>\n",
       "    </tr>\n",
       "    <tr>\n",
       "      <th>...</th>\n",
       "      <td>...</td>\n",
       "      <td>...</td>\n",
       "      <td>...</td>\n",
       "      <td>...</td>\n",
       "      <td>...</td>\n",
       "      <td>...</td>\n",
       "      <td>...</td>\n",
       "      <td>...</td>\n",
       "      <td>...</td>\n",
       "      <td>...</td>\n",
       "      <td>...</td>\n",
       "    </tr>\n",
       "    <tr>\n",
       "      <th>54691</th>\n",
       "      <td>0</td>\n",
       "      <td>3</td>\n",
       "      <td>1</td>\n",
       "      <td>1</td>\n",
       "      <td>47</td>\n",
       "      <td>5.0</td>\n",
       "      <td>19</td>\n",
       "      <td>0</td>\n",
       "      <td>0</td>\n",
       "      <td>86</td>\n",
       "      <td>0</td>\n",
       "    </tr>\n",
       "    <tr>\n",
       "      <th>54695</th>\n",
       "      <td>4</td>\n",
       "      <td>2</td>\n",
       "      <td>0</td>\n",
       "      <td>2</td>\n",
       "      <td>52</td>\n",
       "      <td>5.0</td>\n",
       "      <td>18</td>\n",
       "      <td>1</td>\n",
       "      <td>0</td>\n",
       "      <td>56</td>\n",
       "      <td>1</td>\n",
       "    </tr>\n",
       "    <tr>\n",
       "      <th>54697</th>\n",
       "      <td>7</td>\n",
       "      <td>2</td>\n",
       "      <td>1</td>\n",
       "      <td>1</td>\n",
       "      <td>47</td>\n",
       "      <td>5.0</td>\n",
       "      <td>15</td>\n",
       "      <td>0</td>\n",
       "      <td>0</td>\n",
       "      <td>50</td>\n",
       "      <td>0</td>\n",
       "    </tr>\n",
       "    <tr>\n",
       "      <th>54754</th>\n",
       "      <td>8</td>\n",
       "      <td>2</td>\n",
       "      <td>0</td>\n",
       "      <td>1</td>\n",
       "      <td>42</td>\n",
       "      <td>3.0</td>\n",
       "      <td>14</td>\n",
       "      <td>0</td>\n",
       "      <td>0</td>\n",
       "      <td>79</td>\n",
       "      <td>0</td>\n",
       "    </tr>\n",
       "    <tr>\n",
       "      <th>54803</th>\n",
       "      <td>8</td>\n",
       "      <td>2</td>\n",
       "      <td>1</td>\n",
       "      <td>1</td>\n",
       "      <td>48</td>\n",
       "      <td>3.0</td>\n",
       "      <td>17</td>\n",
       "      <td>0</td>\n",
       "      <td>0</td>\n",
       "      <td>78</td>\n",
       "      <td>0</td>\n",
       "    </tr>\n",
       "  </tbody>\n",
       "</table>\n",
       "<p>3489 rows × 11 columns</p>\n",
       "</div>"
      ],
      "text/plain": [
       "       department  education  gender  no_of_trainings  age  \\\n",
       "13              8          3       1                2   39   \n",
       "42              2          2       1                1   59   \n",
       "60              7          3       1                1   50   \n",
       "74              7          2       1                1   50   \n",
       "99              1          3       1                1   60   \n",
       "...           ...        ...     ...              ...  ...   \n",
       "54691           0          3       1                1   47   \n",
       "54695           4          2       0                2   52   \n",
       "54697           7          2       1                1   47   \n",
       "54754           8          2       0                1   42   \n",
       "54803           8          2       1                1   48   \n",
       "\n",
       "       previous_year_rating  length_of_service  KPIs_greater_than_80  \\\n",
       "13                      3.0                 16                     0   \n",
       "42                      4.0                 26                     1   \n",
       "60                      4.0                 17                     1   \n",
       "74                      3.0                 14                     0   \n",
       "99                      5.0                 17                     0   \n",
       "...                     ...                ...                   ...   \n",
       "54691                   5.0                 19                     0   \n",
       "54695                   5.0                 18                     1   \n",
       "54697                   5.0                 15                     0   \n",
       "54754                   3.0                 14                     0   \n",
       "54803                   3.0                 17                     0   \n",
       "\n",
       "       awards_won  avg_training_score  is_promoted  \n",
       "13              0                  80            0  \n",
       "42              0                  52            0  \n",
       "60              0                  47            1  \n",
       "74              0                  52            0  \n",
       "99              0                  59            0  \n",
       "...           ...                 ...          ...  \n",
       "54691           0                  86            0  \n",
       "54695           0                  56            1  \n",
       "54697           0                  50            0  \n",
       "54754           0                  79            0  \n",
       "54803           0                  78            0  \n",
       "\n",
       "[3489 rows x 11 columns]"
      ]
     },
     "execution_count": 43,
     "metadata": {},
     "output_type": "execute_result"
    }
   ],
   "source": [
    "# lets check the data after encoding\n",
    "train"
   ]
  },
  {
   "cell_type": "code",
   "execution_count": 36,
   "id": "c3681ae8",
   "metadata": {},
   "outputs": [
    {
     "data": {
      "text/html": [
       "<div>\n",
       "<style scoped>\n",
       "    .dataframe tbody tr th:only-of-type {\n",
       "        vertical-align: middle;\n",
       "    }\n",
       "\n",
       "    .dataframe tbody tr th {\n",
       "        vertical-align: top;\n",
       "    }\n",
       "\n",
       "    .dataframe thead th {\n",
       "        text-align: right;\n",
       "    }\n",
       "</style>\n",
       "<table border=\"1\" class=\"dataframe\">\n",
       "  <thead>\n",
       "    <tr style=\"text-align: right;\">\n",
       "      <th></th>\n",
       "      <th>department</th>\n",
       "      <th>education</th>\n",
       "      <th>gender</th>\n",
       "      <th>no_of_trainings</th>\n",
       "      <th>age</th>\n",
       "      <th>previous_year_rating</th>\n",
       "      <th>length_of_service</th>\n",
       "      <th>KPIs_greater_than_80</th>\n",
       "      <th>awards_won</th>\n",
       "      <th>avg_training_score</th>\n",
       "    </tr>\n",
       "  </thead>\n",
       "  <tbody>\n",
       "    <tr>\n",
       "      <th>13</th>\n",
       "      <td>8</td>\n",
       "      <td>3</td>\n",
       "      <td>1</td>\n",
       "      <td>2</td>\n",
       "      <td>39</td>\n",
       "      <td>3.0</td>\n",
       "      <td>16</td>\n",
       "      <td>0</td>\n",
       "      <td>0</td>\n",
       "      <td>80</td>\n",
       "    </tr>\n",
       "    <tr>\n",
       "      <th>42</th>\n",
       "      <td>2</td>\n",
       "      <td>2</td>\n",
       "      <td>1</td>\n",
       "      <td>1</td>\n",
       "      <td>59</td>\n",
       "      <td>4.0</td>\n",
       "      <td>26</td>\n",
       "      <td>1</td>\n",
       "      <td>0</td>\n",
       "      <td>52</td>\n",
       "    </tr>\n",
       "    <tr>\n",
       "      <th>60</th>\n",
       "      <td>7</td>\n",
       "      <td>3</td>\n",
       "      <td>1</td>\n",
       "      <td>1</td>\n",
       "      <td>50</td>\n",
       "      <td>4.0</td>\n",
       "      <td>17</td>\n",
       "      <td>1</td>\n",
       "      <td>0</td>\n",
       "      <td>47</td>\n",
       "    </tr>\n",
       "    <tr>\n",
       "      <th>74</th>\n",
       "      <td>7</td>\n",
       "      <td>2</td>\n",
       "      <td>1</td>\n",
       "      <td>1</td>\n",
       "      <td>50</td>\n",
       "      <td>3.0</td>\n",
       "      <td>14</td>\n",
       "      <td>0</td>\n",
       "      <td>0</td>\n",
       "      <td>52</td>\n",
       "    </tr>\n",
       "    <tr>\n",
       "      <th>99</th>\n",
       "      <td>1</td>\n",
       "      <td>3</td>\n",
       "      <td>1</td>\n",
       "      <td>1</td>\n",
       "      <td>60</td>\n",
       "      <td>5.0</td>\n",
       "      <td>17</td>\n",
       "      <td>0</td>\n",
       "      <td>0</td>\n",
       "      <td>59</td>\n",
       "    </tr>\n",
       "    <tr>\n",
       "      <th>...</th>\n",
       "      <td>...</td>\n",
       "      <td>...</td>\n",
       "      <td>...</td>\n",
       "      <td>...</td>\n",
       "      <td>...</td>\n",
       "      <td>...</td>\n",
       "      <td>...</td>\n",
       "      <td>...</td>\n",
       "      <td>...</td>\n",
       "      <td>...</td>\n",
       "    </tr>\n",
       "    <tr>\n",
       "      <th>54691</th>\n",
       "      <td>0</td>\n",
       "      <td>3</td>\n",
       "      <td>1</td>\n",
       "      <td>1</td>\n",
       "      <td>47</td>\n",
       "      <td>5.0</td>\n",
       "      <td>19</td>\n",
       "      <td>0</td>\n",
       "      <td>0</td>\n",
       "      <td>86</td>\n",
       "    </tr>\n",
       "    <tr>\n",
       "      <th>54695</th>\n",
       "      <td>4</td>\n",
       "      <td>2</td>\n",
       "      <td>0</td>\n",
       "      <td>2</td>\n",
       "      <td>52</td>\n",
       "      <td>5.0</td>\n",
       "      <td>18</td>\n",
       "      <td>1</td>\n",
       "      <td>0</td>\n",
       "      <td>56</td>\n",
       "    </tr>\n",
       "    <tr>\n",
       "      <th>54697</th>\n",
       "      <td>7</td>\n",
       "      <td>2</td>\n",
       "      <td>1</td>\n",
       "      <td>1</td>\n",
       "      <td>47</td>\n",
       "      <td>5.0</td>\n",
       "      <td>15</td>\n",
       "      <td>0</td>\n",
       "      <td>0</td>\n",
       "      <td>50</td>\n",
       "    </tr>\n",
       "    <tr>\n",
       "      <th>54754</th>\n",
       "      <td>8</td>\n",
       "      <td>2</td>\n",
       "      <td>0</td>\n",
       "      <td>1</td>\n",
       "      <td>42</td>\n",
       "      <td>3.0</td>\n",
       "      <td>14</td>\n",
       "      <td>0</td>\n",
       "      <td>0</td>\n",
       "      <td>79</td>\n",
       "    </tr>\n",
       "    <tr>\n",
       "      <th>54803</th>\n",
       "      <td>8</td>\n",
       "      <td>2</td>\n",
       "      <td>1</td>\n",
       "      <td>1</td>\n",
       "      <td>48</td>\n",
       "      <td>3.0</td>\n",
       "      <td>17</td>\n",
       "      <td>0</td>\n",
       "      <td>0</td>\n",
       "      <td>78</td>\n",
       "    </tr>\n",
       "  </tbody>\n",
       "</table>\n",
       "<p>3489 rows × 10 columns</p>\n",
       "</div>"
      ],
      "text/plain": [
       "       department  education  gender  no_of_trainings  age  \\\n",
       "13              8          3       1                2   39   \n",
       "42              2          2       1                1   59   \n",
       "60              7          3       1                1   50   \n",
       "74              7          2       1                1   50   \n",
       "99              1          3       1                1   60   \n",
       "...           ...        ...     ...              ...  ...   \n",
       "54691           0          3       1                1   47   \n",
       "54695           4          2       0                2   52   \n",
       "54697           7          2       1                1   47   \n",
       "54754           8          2       0                1   42   \n",
       "54803           8          2       1                1   48   \n",
       "\n",
       "       previous_year_rating  length_of_service  KPIs_greater_than_80  \\\n",
       "13                      3.0                 16                     0   \n",
       "42                      4.0                 26                     1   \n",
       "60                      4.0                 17                     1   \n",
       "74                      3.0                 14                     0   \n",
       "99                      5.0                 17                     0   \n",
       "...                     ...                ...                   ...   \n",
       "54691                   5.0                 19                     0   \n",
       "54695                   5.0                 18                     1   \n",
       "54697                   5.0                 15                     0   \n",
       "54754                   3.0                 14                     0   \n",
       "54803                   3.0                 17                     0   \n",
       "\n",
       "       awards_won  avg_training_score  \n",
       "13              0                  80  \n",
       "42              0                  52  \n",
       "60              0                  47  \n",
       "74              0                  52  \n",
       "99              0                  59  \n",
       "...           ...                 ...  \n",
       "54691           0                  86  \n",
       "54695           0                  56  \n",
       "54697           0                  50  \n",
       "54754           0                  79  \n",
       "54803           0                  78  \n",
       "\n",
       "[3489 rows x 10 columns]"
      ]
     },
     "execution_count": 36,
     "metadata": {},
     "output_type": "execute_result"
    }
   ],
   "source": [
    "x=train.drop(['is_promoted'],axis=1)\n",
    "x"
   ]
  },
  {
   "cell_type": "code",
   "execution_count": 37,
   "id": "6e4b5fe5",
   "metadata": {},
   "outputs": [
    {
     "data": {
      "text/plain": [
       "13       0\n",
       "42       0\n",
       "60       1\n",
       "74       0\n",
       "99       0\n",
       "        ..\n",
       "54691    0\n",
       "54695    1\n",
       "54697    0\n",
       "54754    0\n",
       "54803    0\n",
       "Name: is_promoted, Length: 3489, dtype: int64"
      ]
     },
     "execution_count": 37,
     "metadata": {},
     "output_type": "execute_result"
    }
   ],
   "source": [
    "y=train.is_promoted\n",
    "y"
   ]
  },
  {
   "cell_type": "code",
   "execution_count": 38,
   "id": "4ab09642",
   "metadata": {},
   "outputs": [],
   "source": [
    "from sklearn.model_selection import train_test_split\n",
    "\n",
    "x_train, x_test, y_train, y_test = train_test_split(x, y, test_size = 0.2, random_state = 0)"
   ]
  },
  {
   "cell_type": "code",
   "execution_count": 39,
   "id": "0f0a0387",
   "metadata": {},
   "outputs": [
    {
     "data": {
      "text/plain": [
       "DecisionTreeClassifier()"
      ]
     },
     "execution_count": 39,
     "metadata": {},
     "output_type": "execute_result"
    }
   ],
   "source": [
    "from sklearn.tree import DecisionTreeClassifier\n",
    "\n",
    "model = DecisionTreeClassifier()\n",
    "model.fit(x_train, y_train)"
   ]
  },
  {
   "cell_type": "code",
   "execution_count": 40,
   "id": "05738742",
   "metadata": {},
   "outputs": [
    {
     "data": {
      "text/plain": [
       "0.9398280802292264"
      ]
     },
     "execution_count": 40,
     "metadata": {},
     "output_type": "execute_result"
    }
   ],
   "source": [
    "model.score(x_test,y_test)"
   ]
  },
  {
   "cell_type": "code",
   "execution_count": 41,
   "id": "360310b6",
   "metadata": {},
   "outputs": [
    {
     "name": "stdout",
     "output_type": "stream",
     "text": [
      "Whether the Employee should get a Promotion : 1-> Promotion, and 0-> No Promotion : [1]\n"
     ]
    }
   ],
   "source": [
    "prediction = model.predict(np.array([[2, #department code\n",
    "                                      3, #masters degree\n",
    "                                      1, #male\n",
    "                                      1, #1 training\n",
    "                                      30, #30 years old\n",
    "                                      5, #previous year rating\n",
    "                                      10, #length of service\n",
    "                                      1, #KPIs met >80%\n",
    "                                      1, #awards won\n",
    "                                      95, #avg training score\n",
    "                                     ]]))\n",
    "\n",
    "print(\"Whether the Employee should get a Promotion : 1-> Promotion, and 0-> No Promotion :\", prediction)"
   ]
  },
  {
   "cell_type": "code",
   "execution_count": 42,
   "id": "fc419595",
   "metadata": {},
   "outputs": [],
   "source": [
    "import pickle\n",
    "pickle.dump(model,open('emppre.pkl','wb'))"
   ]
  },
  {
   "cell_type": "code",
   "execution_count": null,
   "id": "161328bd",
   "metadata": {},
   "outputs": [],
   "source": []
  }
 ],
 "metadata": {
  "kernelspec": {
   "display_name": "Python 3",
   "language": "python",
   "name": "python3"
  },
  "language_info": {
   "codemirror_mode": {
    "name": "ipython",
    "version": 3
   },
   "file_extension": ".py",
   "mimetype": "text/x-python",
   "name": "python",
   "nbconvert_exporter": "python",
   "pygments_lexer": "ipython3",
   "version": "3.8.8"
  }
 },
 "nbformat": 4,
 "nbformat_minor": 5
}
